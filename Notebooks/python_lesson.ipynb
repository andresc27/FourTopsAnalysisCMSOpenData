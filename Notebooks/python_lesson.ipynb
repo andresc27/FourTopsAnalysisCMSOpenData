{
 "cells": [
  {
   "cell_type": "code",
   "execution_count": 1,
   "id": "bcdf9171",
   "metadata": {},
   "outputs": [],
   "source": [
    "import uproot\n",
    "import numpy as np\n",
    "\n",
    "reference = None\n",
    "\n",
    "\n",
    "def check_truth(df):\n",
    "    global reference\n",
    "\n",
    "    if reference is None:\n",
    "        print('Loading reference dataset, this will take a moment...')\n",
    "        reference = uproot.open(\n",
    "            'https://cern.ch/starterkit/data/advanced-python-2018/real_data.root',\n",
    "            httpsource={'chunkbytes': 10*1024*1024, 'limitbytes': 33554432, 'parallel': 64}\n",
    "        )['DecayTree']['Jpsi_M'].arrays(library='pd')\n",
    "\n",
    "    reference['original_index'] = np.arange(len(reference))\n",
    "\n",
    "    tmp_df = df[['Jpsi_M']].merge(reference, on=['Jpsi_M'], how='left', indicator=True, validate='1:1')\n",
    "    if len(tmp_df) != len(df):\n",
    "        print(len(df))\n",
    "        print(len(tmp_df))\n",
    "        raise ValueError('Failed to match some events, did this come from the correct dataset')\n",
    "\n",
    "    # n_signal = np.count_nonzero(tmp_df['catagory'] == 1)\n",
    "    # n_background = np.count_nonzero(tmp_df['catagory'] == 0)\n",
    "    n_signal = np.count_nonzero(tmp_df['original_index'] <= 1215)\n",
    "    n_background = np.count_nonzero(tmp_df['original_index'] > 1215)\n",
    "    print(f'Data contains {n_signal} signal events')\n",
    "    print(f'Data contains {n_background} background events')\n",
    "\n",
    "    tmp_df_signal_window = tmp_df.query('(3.0 < Jpsi_M < 3.2)')\n",
    "    n_signal = np.count_nonzero(tmp_df_signal_window['original_index'] <= 1215)\n",
    "    n_background = np.count_nonzero(tmp_df_signal_window['original_index'] > 1215)\n",
    "    print(f'Significance metric is {n_signal/np.sqrt(n_signal + n_background):.2f}')"
   ]
  },
  {
   "cell_type": "code",
   "execution_count": null,
   "id": "5688580b",
   "metadata": {},
   "outputs": [],
   "source": []
  }
 ],
 "metadata": {
  "kernelspec": {
   "display_name": "Python 3",
   "language": "python",
   "name": "python3"
  },
  "language_info": {
   "codemirror_mode": {
    "name": "ipython",
    "version": 3
   },
   "file_extension": ".py",
   "mimetype": "text/x-python",
   "name": "python",
   "nbconvert_exporter": "python",
   "pygments_lexer": "ipython3",
   "version": "3.9.12"
  }
 },
 "nbformat": 4,
 "nbformat_minor": 5
}
